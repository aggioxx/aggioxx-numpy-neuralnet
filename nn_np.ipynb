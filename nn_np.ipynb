{
 "metadata": {
  "kernelspec": {
   "language": "python",
   "display_name": "Python 3",
   "name": "python3"
  },
  "language_info": {
   "name": "python",
   "version": "3.10.14",
   "mimetype": "text/x-python",
   "codemirror_mode": {
    "name": "ipython",
    "version": 3
   },
   "pygments_lexer": "ipython3",
   "nbconvert_exporter": "python",
   "file_extension": ".py"
  },
  "kaggle": {
   "accelerator": "none",
   "dataSources": [
    {
     "sourceId": 3004,
     "databundleVersionId": 861823,
     "sourceType": "competition"
    }
   ],
   "dockerImageVersionId": 30786,
   "isInternetEnabled": true,
   "language": "python",
   "sourceType": "notebook",
   "isGpuEnabled": false
  }
 },
 "nbformat_minor": 4,
 "nbformat": 4,
 "cells": [
  {
   "cell_type": "code",
   "source": [
    "import numpy as np # linear algebra\n",
    "import pandas as pd # data processing, CSV file I/O (e.g. pd.read_csv)\n",
    "from matplotlib import pyplot as plt\n",
    "\n",
    "data = pd.read_csv('/kaggle/input/digit-recognizer/train.csv')\n",
    "data.head()"
   ],
   "metadata": {
    "_uuid": "8f2839f25d086af736a60e9eeb907d3b93b6e0e5",
    "_cell_guid": "b1076dfc-b9ad-4769-8c92-a6c4dae69d19",
    "trusted": true
   },
   "outputs": [],
   "execution_count": null
  },
  {
   "cell_type": "code",
   "source": "data = np.array(data)\nm, n = data.shape\nnp.random.shuffle(data)",
   "metadata": {
    "trusted": true
   },
   "outputs": [],
   "execution_count": null
  },
  {
   "cell_type": "code",
   "source": "data_test = data[0:1000].T\ny_test = data_test[0]\nx_test = data_test[1:n]\nx_test = x_test / 255\n\ndata_train = data[1000:m].T\ny_train = data_train[0]\nx_train = data_train[1:n]\nx_train = x_train / 255\n\n_,m_train = x_train.shape",
   "metadata": {
    "trusted": true
   },
   "outputs": [],
   "execution_count": null
  },
  {
   "cell_type": "code",
   "source": [
    "def init_params():\n",
    "    w1 = np.random.rand(10, 784) - 0.5\n",
    "    b1 = np.random.rand(10, 1) - 0.5\n",
    "    w2 = np.random.rand(10, 10) - 0.5\n",
    "    b2 = np.random.rand(10, 1) - 0.5\n",
    "    return w1, b1, w2, b2\n",
    "\n",
    "def reLU(z):\n",
    "    return np.maximum(z, 0)\n",
    "\n",
    "def deriv_relu(z):\n",
    "    return z > 0\n",
    "\n",
    "def softmax(z):\n",
    "    a = np.exp(z) / sum(np.exp(z))\n",
    "    return a\n",
    "\n",
    "def forward(w1, b1, w2, b2, x):\n",
    "    z1 = w1.dot(x) + b1\n",
    "    a1 = reLU(z1)\n",
    "    z2 = w2.dot(a1) + b2\n",
    "    a2 = softmax(z2)\n",
    "    return z1, a1, z2, a2\n",
    "\n",
    "def one_hot(y):\n",
    "    one_hot_y = np.zeros((y.size, y.max() + 1))\n",
    "    one_hot_y[np.arange(y.size), y] = 1\n",
    "    one_hot_y = one_hot_y.T\n",
    "    return one_hot_y\n",
    "\n",
    "def back(z1, a1, z2, a2, w1, w2, x, y):\n",
    "    one_hot_y = one_hot(y)\n",
    "    dz2 = a2 - one_hot_y\n",
    "    dw2 = 1 / m * dz2.dot(a1.T)\n",
    "    db2 = 1 / m * np.sum(dz2)\n",
    "    dz1 = w2.T.dot(dz2) * deriv_relu(z1)\n",
    "    dw1 = 1 / m * dz1.dot(x.T)\n",
    "    db1 = 1 / m * np.sum(dz1)\n",
    "    return dw1, db1, dw2, db2\n",
    "\n",
    "def update_params(w1, b1, w2, b2, dw1, db1, dw2, db2, alpha):\n",
    "    w1 = w1 - alpha * dw1\n",
    "    b1 = b1 - alpha * db1\n",
    "    w2 = w2 - alpha * dw2\n",
    "    b2 = b2 - alpha * db2\n",
    "    return w1, b1, w2, b2"
   ],
   "metadata": {
    "trusted": true
   },
   "outputs": [],
   "execution_count": null
  },
  {
   "cell_type": "code",
   "source": "def get_predictions(a2):\n    return np.argmax(a2, 0)\n\ndef get_acc(predictions, y):\n    print(predictions, y)\n    return np.sum(predictions == y) / y.size\n\ndef gradient_desc(x, y, epochs, alpha):\n    w1, b1, w2, b2 = init_params()\n    for i in range(epochs):\n        z1, a1, z2, a2 = forward(w1, b1, w2, b2, x)\n        dw1, db1, dw2, db2 = back(z1, a1, z2, a2, w1, w2, x, y)\n        w1, b1, w2, b2 = update_params(w1, b1, w2, b2, dw1, db1, dw2, db2, alpha)\n        if i % 10 == 0:\n            print(\"Epoch: \", i)\n            print(\"Accuracy: \", get_acc(get_predictions(a2), y))\n    return w1, b1, w2, b2",
   "metadata": {
    "trusted": true
   },
   "outputs": [],
   "execution_count": null
  },
  {
   "cell_type": "code",
   "source": "w1, b1, w2, b2 = gradient_desc(x_train, y_train, 500, 0.15)",
   "metadata": {
    "trusted": true
   },
   "outputs": [],
   "execution_count": null
  },
  {
   "cell_type": "code",
   "source": "def predict(x,w1,b1,w2,b2):\n    _,_,_,a2 = forward(w1,b1,w2,b2,x)\n    pred = get_predictions(a2)\n    return pred\n\ndef test_pred(i, w1, b1, w2, b2):\n    current = x_train[:, i, None]\n    pred = predict(x_train[:, i, None], w1,b1,w2,b2)\n    label = y_train[i]\n    print(\"Prediction: \", pred)\n    print(\"Label: \", label)\n\n    current = current.reshape((28,28)) * 255\n    plt.gray()\n    plt.imshow(current, interpolation='nearest')\n    plt.show",
   "metadata": {
    "trusted": true
   },
   "outputs": [],
   "execution_count": null
  },
  {
   "cell_type": "code",
   "source": "test_pred(16,w1,b1,w2,b2)",
   "metadata": {
    "trusted": true
   },
   "outputs": [],
   "execution_count": null
  }
 ]
}
